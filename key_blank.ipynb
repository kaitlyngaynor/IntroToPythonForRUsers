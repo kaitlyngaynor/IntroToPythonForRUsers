{
 "cells": [
  {
   "cell_type": "markdown",
   "metadata": {},
   "source": [
    "Jupyter Notebook tips:  \n",
    "Run a cell: `shift + enter`  \n",
    "See \"Cell\" menu option above to run all cells or change cell type from code to markdown.  \n",
    "See \"Insert\" menu option above to add cells.  \n",
    "See \"Edit\" menu option above to delete cells.  \n",
    "See \"Kernel\" menu option to restart and run all output."
   ]
  },
  {
   "cell_type": "markdown",
   "metadata": {},
   "source": [
    "# STEP 0: Play With Python"
   ]
  },
  {
   "cell_type": "code",
   "execution_count": null,
   "metadata": {},
   "outputs": [],
   "source": [
    "# Assign a list of strings to a variable called 'presents'\n"
   ]
  },
  {
   "cell_type": "code",
   "execution_count": null,
   "metadata": {},
   "outputs": [],
   "source": [
    "# Assign a new variable 'favorite_present' by indexing the list of strings 'presents' we made above\n"
   ]
  },
  {
   "cell_type": "markdown",
   "metadata": {},
   "source": [
    "# STEP 1: LOAD PACKAGES & DATA"
   ]
  },
  {
   "cell_type": "markdown",
   "metadata": {},
   "source": [
    "### Load Packages"
   ]
  },
  {
   "cell_type": "code",
   "execution_count": null,
   "metadata": {},
   "outputs": [],
   "source": [
    "# Import Pandas\n",
    "import pandas as pd\n",
    "pd.set_option(\"display.max_rows\", None, \"display.max_columns\", None)"
   ]
  },
  {
   "cell_type": "markdown",
   "metadata": {},
   "source": [
    "### What is a dataframe in Pandas?\n",
    "Let's look at the [docs](https://pandas.pydata.org/docs/reference/api/pandas.DataFrame.html) together."
   ]
  },
  {
   "cell_type": "code",
   "execution_count": null,
   "metadata": {},
   "outputs": [],
   "source": [
    "# Create a dataframe using an example from the docs\n"
   ]
  },
  {
   "cell_type": "markdown",
   "metadata": {},
   "source": [
    "### Read in Data\n"
   ]
  },
  {
   "cell_type": "code",
   "execution_count": null,
   "metadata": {},
   "outputs": [],
   "source": [
    "# Read the CSV into a dataframe called 'raw_data'\n"
   ]
  },
  {
   "cell_type": "code",
   "execution_count": null,
   "metadata": {},
   "outputs": [],
   "source": [
    "# Let's just display the 'hs_tf' column\n"
   ]
  },
  {
   "cell_type": "code",
   "execution_count": null,
   "metadata": {},
   "outputs": [],
   "source": [
    "# What happens if we compare the 'hs_tf' column with 'Yes'?\n"
   ]
  },
  {
   "cell_type": "code",
   "execution_count": null,
   "metadata": {},
   "outputs": [],
   "source": [
    "# Bring it all together to filter 'hs_tf' into a dataframe called 'sweaters'\n"
   ]
  },
  {
   "cell_type": "markdown",
   "metadata": {},
   "source": []
  },
  {
   "cell_type": "markdown",
   "metadata": {},
   "source": [
    " # STEP 2: WRANGLE/PROCESS DATA"
   ]
  },
  {
   "cell_type": "markdown",
   "metadata": {},
   "source": [
    "### Wrangle Colors (The Tidy Way)"
   ]
  },
  {
   "cell_type": "code",
   "execution_count": null,
   "metadata": {},
   "outputs": [],
   "source": [
    "# Make a copy to avoid assignment warnings\n",
    "\n",
    "\n",
    "# Convert 'colors' column from comma or and delimited string to new 'colors_list' column\n",
    "\n",
    "\n",
    "# Use a question mark to see documentation on str.split\n",
    "\n",
    "\n",
    "# Tidy colors data (1 color per row)\n",
    "\n",
    "\n",
    "# Calc how many colors for each sweater & add to dataframe as new 'num_colors' column\n",
    "\n"
   ]
  },
  {
   "cell_type": "code",
   "execution_count": null,
   "metadata": {},
   "outputs": [],
   "source": [
    "# Display the dataframe\n"
   ]
  },
  {
   "cell_type": "markdown",
   "metadata": {},
   "source": [
    "### Wrangle Image Descriptions (The Python / Pandas Way)"
   ]
  },
  {
   "cell_type": "code",
   "execution_count": null,
   "metadata": {},
   "outputs": [],
   "source": [
    "# Replace NaN with empty string\n",
    "sweaters['image_desc'].fillna('', inplace=True)\n",
    "\n",
    "# Convert 'image_desc' column from single space delimited string to new list of string column 'image_desc_list'\n",
    "sweaters['image_desc_list'] = sweaters['image_desc'].str.split(' ')\n",
    "\n",
    "# Calculate how many image_desc words are present & assign to new column 'num_words'\n",
    "sweaters['num_words'] = sweaters['image_desc_list'].apply(lambda x: len(x))\n",
    "\n",
    "# Display the dataframe\n",
    "sweaters"
   ]
  },
  {
   "cell_type": "markdown",
   "metadata": {},
   "source": [
    "# STEP 3: VISUALIZE DATA"
   ]
  },
  {
   "cell_type": "code",
   "execution_count": null,
   "metadata": {},
   "outputs": [],
   "source": [
    "# Pandas built-in plot tools (which use Matplotlib under the hood)\n",
    "# This is convenient, but doesn't give as much control as using the Matplotlib API\n",
    "sweaters.plot.scatter('num_colors', 'num_words')"
   ]
  },
  {
   "cell_type": "markdown",
   "metadata": {},
   "source": [
    "## BONUS: NumPy and Matplotlib API\n",
    "There are several ways to visualize our results... most are built on top of the Matplotlib package."
   ]
  },
  {
   "cell_type": "code",
   "execution_count": null,
   "metadata": {},
   "outputs": [],
   "source": [
    "import matplotlib as mpl\n",
    "from matplotlib import pyplot as plt\n",
    "\n",
    "import numpy as np\n",
    "\n",
    "# Change default plot size\n",
    "plt.rcParams['figure.figsize'] = (12, 8)\n",
    "\n",
    "# There are many pre-defined styles... view the available options\n",
    "print(mpl.style.available)\n",
    "# or use the default style\n",
    "plt.style.use('default')"
   ]
  },
  {
   "cell_type": "code",
   "execution_count": null,
   "metadata": {},
   "outputs": [],
   "source": [
    "# Matplotlib scatter plot doesn't have built-in jitter option...\n",
    "# but it's not too hard\n",
    "\n",
    "def jitterify(arr, factor=0.01):\n",
    "    \"\"\"Add jitter 'factor' to 'arr' data\n",
    "    :param arr: array-like, eg: list, ndarray\n",
    "    :param factor: float, 0.0 -> 1.0\n",
    "    :return: arr with added jitter\n",
    "    \"\"\"\n",
    "    assert 0.0 <= factor <= 1.0, f\"Error, invalid factor {factor}\"\n",
    "    arr = np.array(arr)\n",
    "    assert arr.ndim == 1, f\"Expected 1-d array, got {arr.ndim}\"\n",
    "    ptp = arr.ptp()\n",
    "    jitter = np.random.randn(arr.size) * factor * ptp\n",
    "    return arr + jitter"
   ]
  },
  {
   "cell_type": "code",
   "execution_count": null,
   "metadata": {},
   "outputs": [],
   "source": [
    "# Scatterplot docs:\n",
    "# https://matplotlib.org/stable/api/_as_gen/matplotlib.pyplot.scatter.html\n",
    "\n",
    "fontsize = 12\n",
    "markersize = 75\n",
    "color = '#424242'\n",
    "alpha = 0.4\n",
    "jitter = 0.01\n",
    "\n",
    "# Instantiate plot objects\n",
    "fig, ax = plt.subplots()\n",
    "\n",
    "# Add labels to axes\n",
    "ax.set_xlabel('Number of colors on sweater', fontsize=fontsize, color='k')\n",
    "ax.set_ylabel('Number of words\\nin sweater description', fontsize=fontsize, color='k')\n",
    "# Add figure title\n",
    "fig.suptitle(\"Relationship between the number of colors and\\nlength of description for ugly holiday sweaters\",\n",
    "            color='k', fontsize=fontsize + 2)\n",
    "\n",
    "# Specify what data to plot\n",
    "x = sweaters.num_colors\n",
    "y = sweaters.num_words\n",
    "# Add jitter to data so completely overlapping\n",
    "x = jitterify(x, jitter)\n",
    "y = jitterify(y, jitter)\n",
    "\n",
    "# Plot\n",
    "ax.scatter(x, y,\n",
    "            c=color,\n",
    "            s=markersize,\n",
    "            alpha=alpha,\n",
    "            edgecolors=color,\n",
    "            linewidths=1.\n",
    "           )\n",
    "\n",
    "# Add polyfit curve\n",
    "coeffs = np.polyfit(x, y, 1)\n",
    "xlim = ax.get_xlim()\n",
    "ax.plot(xlim, np.polyval(coeffs, xlim), color='k', alpha=0.9)\n",
    "\n",
    "# Set tick increment\n",
    "incr_x = 2\n",
    "incr_y = 5\n",
    "ax.xaxis.set_major_locator(mpl.ticker.MultipleLocator(incr_x))\n",
    "ax.yaxis.set_major_locator(mpl.ticker.MultipleLocator(incr_y))"
   ]
  },
  {
   "cell_type": "markdown",
   "metadata": {},
   "source": [
    "### Seaborn library\n",
    "This library is designed with data-science and clean asthetics in mind... check it out!<br>\n",
    "https://seaborn.pydata.org/"
   ]
  },
  {
   "cell_type": "code",
   "execution_count": null,
   "metadata": {},
   "outputs": [],
   "source": [
    "import seaborn as sns;\n",
    "sns.regplot(x=sweaters['num_colors'], y=sweaters['num_words'])"
   ]
  }
 ],
 "metadata": {
  "kernelspec": {
   "display_name": "Python 3",
   "language": "python",
   "name": "python3"
  },
  "language_info": {
   "codemirror_mode": {
    "name": "ipython",
    "version": 3
   },
   "file_extension": ".py",
   "mimetype": "text/x-python",
   "name": "python",
   "nbconvert_exporter": "python",
   "pygments_lexer": "ipython3",
   "version": "3.8.5"
  }
 },
 "nbformat": 4,
 "nbformat_minor": 4
}
